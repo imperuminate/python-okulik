{
 "cells": [
  {
   "cell_type": "markdown",
   "metadata": {},
   "source": [
    "# Decorators\n",
    "\n",
    "это функции, которые изменяют поведение других функций или методов. обертки такие в которые можно передавать другие функции"
   ]
  },
  {
   "cell_type": "code",
   "execution_count": null,
   "metadata": {},
   "outputs": [],
   "source": [
    "def calc():\n",
    "    print(1 + 1)\n",
    "\n",
    "calc()\n",
    "print(calc)\n",
    "new_calc = calc\n",
    "print(new_calc)\n",
    "new_calc()"
   ]
  },
  {
   "cell_type": "code",
   "execution_count": null,
   "metadata": {},
   "outputs": [],
   "source": [
    "def great():\n",
    "    \n",
    "    def hello():\n",
    "        return 'hello'\n",
    "    \n",
    "    return hello()\n",
    "\n",
    "print(great())"
   ]
  },
  {
   "cell_type": "code",
   "execution_count": null,
   "metadata": {},
   "outputs": [],
   "source": [
    "def outer():\n",
    "    \n",
    "    def inner():\n",
    "        result = 2 + 5\n",
    "        return result\n",
    "    \n",
    "    return inner\n",
    "\n",
    "print(outer()())"
   ]
  },
  {
   "cell_type": "code",
   "execution_count": null,
   "metadata": {},
   "outputs": [],
   "source": [
    "def func1(give_me_a_func):\n",
    "    print('before')\n",
    "    give_me_a_func()\n",
    "    print('after')\n",
    "    \n",
    "    \n",
    "def simple1():\n",
    "    print('simple 1')\n",
    "   \n",
    "    \n",
    "def simple2():\n",
    "    print('simple 2')\n",
    "\n",
    "\n",
    "func1(simple1)\n",
    "simple1()"
   ]
  },
  {
   "cell_type": "code",
   "execution_count": null,
   "metadata": {},
   "outputs": [],
   "source": [
    "def add_text(func):\n",
    "    \n",
    "    def wrapper():\n",
    "        print('before')\n",
    "        func()\n",
    "        print('after')\n",
    "        \n",
    "    return wrapper\n",
    "\n",
    "\n",
    "def simple1():\n",
    "    print('simple 1')\n",
    "\n",
    "print(simple1)\n",
    "    \n",
    "def simple2():\n",
    "    print('simple 2')\n",
    "\n",
    "\n",
    "simple1 = add_text(simple1)\n",
    "\n",
    "print(simple1)\n",
    "       \n",
    "print(simple1())"
   ]
  },
  {
   "cell_type": "markdown",
   "metadata": {},
   "source": [
    "на примере выше я имея одну функцию, поменял ей функионал дополнив врепером"
   ]
  },
  {
   "cell_type": "markdown",
   "metadata": {},
   "source": [
    "а теперь начинаются эти самые декораторы\n",
    "\n",
    "@add_text "
   ]
  },
  {
   "cell_type": "code",
   "execution_count": null,
   "metadata": {},
   "outputs": [],
   "source": [
    "def add_text(func):\n",
    "    \n",
    "    def wrapper():\n",
    "        print('before')\n",
    "        func()\n",
    "        print('after')\n",
    "       \n",
    "    return wrapper\n",
    "\n",
    "\n",
    "@add_text\n",
    "def simple1():\n",
    "    print('simple 1')\n",
    "   \n",
    "   \n",
    "def simple2():\n",
    "    print('simple 2')\n",
    "\n",
    "\n",
    "simple1() # питон видит это как  add_text(simple1)()\n",
    "\n",
    " \n",
    "     "
   ]
  },
  {
   "cell_type": "code",
   "execution_count": null,
   "metadata": {},
   "outputs": [],
   "source": [
    "def add_text(func):\n",
    "    \n",
    "    def wrapper():\n",
    "        print('before')\n",
    "        func()\n",
    "        print('after')\n",
    "       \n",
    "    wrapper.__wrapped__ = func   \n",
    "     \n",
    "    return wrapper\n",
    "\n",
    "\n",
    "@add_text\n",
    "def simple1():\n",
    "    print('simple 1')\n",
    "   \n",
    "   \n",
    "@add_text    \n",
    "def simple2():\n",
    "    print('simple 2')\n",
    "\n",
    "\n",
    "simple2.__wrapped__()  # питон выведет оригинальную функцию без обертски. Но нужно будет это прописать отдельно\n",
    " \n",
    "     "
   ]
  },
  {
   "cell_type": "code",
   "execution_count": null,
   "metadata": {},
   "outputs": [],
   "source": [
    "def add_logs(func):\n",
    "\n",
    "    def wrapper():\n",
    "        print(f'function {func.__name__} started')\n",
    "        return func()\n",
    "\n",
    "    return wrapper\n",
    "\n",
    "\n",
    "@add_logs\n",
    "def simple1():\n",
    "    print('simple 1')\n",
    "\n",
    "\n",
    "@add_logs\n",
    "def simple2():\n",
    "    print('simple 2')\n",
    "   \n",
    "    \n",
    "simple1()\n"
   ]
  },
  {
   "cell_type": "code",
   "execution_count": 35,
   "metadata": {},
   "outputs": [
    {
     "name": "stdout",
     "output_type": "stream",
     "text": [
      "function calc started\n",
      "6\n",
      "function calc2 started\n",
      "12\n"
     ]
    }
   ],
   "source": [
    "def add_logs(func):\n",
    "\n",
    "    def wrapper(*args):\n",
    "        print(f'function {func.__name__} started')\n",
    "        return func(*args)\n",
    "\n",
    "    return wrapper\n",
    "\n",
    "\n",
    "@add_logs\n",
    "def calc(x):\n",
    "    print(x * 2)\n",
    "    \n",
    "@add_logs\n",
    "def calc2(x, y):\n",
    "    print(x * y)\n",
    "    \n",
    "\n",
    "calc(3)\n",
    "calc2(3, 4)"
   ]
  },
  {
   "cell_type": "code",
   "execution_count": 38,
   "metadata": {},
   "outputs": [
    {
     "name": "stdout",
     "output_type": "stream",
     "text": [
      "(1, 2)\n",
      "1 2\n"
     ]
    }
   ],
   "source": [
    "def func(*args):\n",
    "    print(args)\n",
    "    \n",
    "func(1, 2)\n",
    "\n",
    "def func(*args):\n",
    "    print(*args)\n",
    "    \n",
    "func(1, 2)"
   ]
  },
  {
   "cell_type": "markdown",
   "metadata": {},
   "source": [
    "# List comprehension\n",
    "\n",
    "генератор списков"
   ]
  },
  {
   "cell_type": "code",
   "execution_count": 39,
   "metadata": {},
   "outputs": [
    {
     "name": "stdout",
     "output_type": "stream",
     "text": [
      "[2, 4, 6, 8, 10, 12, 14, 16, 20]\n"
     ]
    }
   ],
   "source": [
    "my_list = [1, 2, 3, 4, 5, 6, 7, 8, 10]\n",
    "\n",
    "new_list = []\n",
    "\n",
    "for x in my_list:\n",
    "    new_list.append(x * 2)\n",
    "\n",
    "print(new_list)\n",
    "\n",
    "new_list = map(lambda x: x * 2, my_list)"
   ]
  },
  {
   "cell_type": "code",
   "execution_count": 46,
   "metadata": {},
   "outputs": [
    {
     "name": "stdout",
     "output_type": "stream",
     "text": [
      "[2, 4, 6, 8, 10, 12, 14, 16, 20]\n",
      "[2, 4, 6, 8, 10, 12, 14, 16, 20]\n"
     ]
    }
   ],
   "source": [
    "my_list = [1, 2, 3, 4, 5, 6, 7, 8, 10]\n",
    "\n",
    "new_list = map(lambda x: x * 2, my_list)\n",
    "print(list(new_list))\n",
    "\n",
    "new_list = [x * 2 for x in my_list] # вот так работает лист компрехеншн, запись генерации нового листа\n",
    "                                    # в одну строку. Но это не так быстро, поскольку тут стоит for, а\n",
    "                                    # фор у нас медленный, поэтому в идеале использовать map lambda\n",
    "print(new_list)\n"
   ]
  },
  {
   "cell_type": "code",
   "execution_count": null,
   "metadata": {},
   "outputs": [],
   "source": [
    "my_list = [1, 2, 3, 4, 5, 6, 7, 8, 10]\n",
    "\n",
    "\n",
    "# а этот фильтр переберает каждое значение и проверяет выполняется ли условие как тру. а потом тот х\n",
    "# по одному добавляет в переменную                                   \n",
    "new_list = filter(lambda x: x % 2 == 0, my_list) \n",
    "\n",
    "new_list = [x for x in my_list if x % 2 == 0]\n",
    "# we take x. for every x in my_list. if x corresponds condition \n",
    "\n",
    " "
   ]
  },
  {
   "cell_type": "code",
   "execution_count": 48,
   "metadata": {},
   "outputs": [
    {
     "name": "stdout",
     "output_type": "stream",
     "text": [
      "{2: 10, 4: 20, 6: 30, 8: 40, 10: 50, 12: 60, 14: 70, 16: 80, 20: 100}\n"
     ]
    }
   ],
   "source": [
    "my_list = [1, 2, 3, 4, 5, 6, 7, 8, 10]\n",
    "\n",
    "new_dict = {x * 2: x * 10 for x in my_list}\n",
    "\n",
    "print(new_dict)"
   ]
  },
  {
   "cell_type": "code",
   "execution_count": 53,
   "metadata": {},
   "outputs": [
    {
     "name": "stdout",
     "output_type": "stream",
     "text": [
      "{'one': 'two', 'three': 'four'}\n"
     ]
    }
   ],
   "source": [
    "data = [('one', 'two'), ('three', 'four')]\n",
    "\n",
    "# new_dict = {}\n",
    "# for key, value in data:\n",
    "#     new_dict[key] = value\n",
    "\n",
    "new_dict = {key: value for key, value in data}\n",
    "new_dict = dict(data) # есть специальная функуия чтобы преобразовать в словарь какую то келекцию из парочек\n",
    "\n",
    "print(new_dict)"
   ]
  },
  {
   "cell_type": "code",
   "execution_count": 54,
   "metadata": {},
   "outputs": [
    {
     "name": "stdout",
     "output_type": "stream",
     "text": [
      "{'USA': 23, 'Hawaii': 33, 'Cuba': 35}\n"
     ]
    }
   ],
   "source": [
    "countries = ['USA', 'Hawaii', 'Cuba']\n",
    "temps = [23, 33, 35]\n",
    "\n",
    "country_temps_dict = dict(zip(countries, temps))\n",
    "print(country_temps_dict)"
   ]
  }
 ],
 "metadata": {
  "kernelspec": {
   "display_name": "Python 3",
   "language": "python",
   "name": "python3"
  },
  "language_info": {
   "codemirror_mode": {
    "name": "ipython",
    "version": 3
   },
   "file_extension": ".py",
   "mimetype": "text/x-python",
   "name": "python",
   "nbconvert_exporter": "python",
   "pygments_lexer": "ipython3",
   "version": "3.12.5"
  }
 },
 "nbformat": 4,
 "nbformat_minor": 2
}

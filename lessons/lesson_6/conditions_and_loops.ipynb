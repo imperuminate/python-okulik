{
 "cells": [
  {
   "cell_type": "markdown",
   "metadata": {},
   "source": [
    "# Условия"
   ]
  },
  {
   "cell_type": "code",
   "execution_count": 11,
   "metadata": {},
   "outputs": [
    {
     "name": "stdout",
     "output_type": "stream",
     "text": [
      "One\n"
     ]
    }
   ],
   "source": [
    "user_input = int(input('Введи число:'))\n",
    "\n",
    "if user_input == 1:\n",
    "    print('One')\n",
    "    \n",
    "if user_input == 2:\n",
    "    print('Two')\n",
    "    \n",
    "if user_input not in [1, 2]:\n",
    "    print('mnogo')"
   ]
  },
  {
   "cell_type": "code",
   "execution_count": 23,
   "metadata": {},
   "outputs": [
    {
     "name": "stdout",
     "output_type": "stream",
     "text": [
      "Two\n"
     ]
    }
   ],
   "source": [
    "user_input = input('Введи число:')\n",
    "\n",
    "if user_input.isnumeric():\n",
    "    user_int = int(user_input)\n",
    "    if user_int == 1:\n",
    "        print('One')\n",
    "    elif user_int == 2:\n",
    "        print('Two')\n",
    "    else:\n",
    "        print('mnogo')\n",
    "else:\n",
    "    print('you are shit, you should anter a number')"
   ]
  },
  {
   "cell_type": "markdown",
   "metadata": {},
   "source": [
    "# Цыклы"
   ]
  },
  {
   "cell_type": "code",
   "execution_count": 25,
   "metadata": {},
   "outputs": [
    {
     "name": "stdout",
     "output_type": "stream",
     "text": [
      "John\n",
      "Tim\n",
      "James\n",
      "Bob\n",
      "Jim\n",
      "Bill\n"
     ]
    }
   ],
   "source": [
    "names = ('John', 'Tim', 'James', 'Bob', 'Jim', 'Bill')\n",
    "\n",
    "for ellement in names:\n",
    "    print(ellement)"
   ]
  },
  {
   "cell_type": "code",
   "execution_count": 30,
   "metadata": {},
   "outputs": [
    {
     "name": "stdout",
     "output_type": "stream",
     "text": [
      "Mr John\n",
      "Tim\n",
      "Mr James\n",
      "Bob\n",
      "Mr Jim\n",
      "Bill\n"
     ]
    }
   ],
   "source": [
    "names = ('John', 'Tim', 'James', 'Bob', 'Jim', 'Bill')\n",
    "\n",
    "for ellement in names:\n",
    "    if ellement.startswith('J'):\n",
    "        print(f'Mr {ellement}')\n",
    "    else:\n",
    "        print(ellement)"
   ]
  },
  {
   "cell_type": "code",
   "execution_count": 32,
   "metadata": {},
   "outputs": [
    {
     "name": "stdout",
     "output_type": "stream",
     "text": [
      "Mr  John\n",
      "Tim\n",
      "Mr  James\n",
      "Bob\n",
      "Mr  Jim\n",
      "Bill\n"
     ]
    }
   ],
   "source": [
    "names = ('John', 'Tim', 'James', 'Bob', 'Jim', 'Bill')\n",
    "\n",
    "for ellement in names:\n",
    "    if ellement.startswith('J'):\n",
    "        print('Mr ', end=' ')\n",
    "    print(ellement)"
   ]
  },
  {
   "cell_type": "code",
   "execution_count": 34,
   "metadata": {},
   "outputs": [
    {
     "name": "stdout",
     "output_type": "stream",
     "text": [
      "dict_keys(['John', 'Tom', 'James'])\n",
      "132\n",
      "167\n",
      "234\n"
     ]
    }
   ],
   "source": [
    "persons = {'John': 132, 'Tom': 167, 'James': 234}\n",
    "print(persons.keys())\n",
    "for person in persons.values():\n",
    "    print(person)"
   ]
  },
  {
   "cell_type": "code",
   "execution_count": 35,
   "metadata": {},
   "outputs": [
    {
     "name": "stdout",
     "output_type": "stream",
     "text": [
      "John: 132\n",
      "Tom: 167\n",
      "James: 234\n"
     ]
    }
   ],
   "source": [
    "persons = {'John': 132, 'Tom': 167, 'James': 234}\n",
    "for person in persons:\n",
    "    print(f'{person}: {persons[person]}')"
   ]
  },
  {
   "cell_type": "code",
   "execution_count": 36,
   "metadata": {},
   "outputs": [
    {
     "name": "stdout",
     "output_type": "stream",
     "text": [
      "John: 132\n",
      "Tom: 167\n",
      "James: 234\n"
     ]
    }
   ],
   "source": [
    "persons = {'John': 132, 'Tom': 167, 'James': 234}\n",
    "for name, height in persons.items():\n",
    "    print(f'{name}: {height}')"
   ]
  },
  {
   "cell_type": "code",
   "execution_count": 37,
   "metadata": {},
   "outputs": [
    {
     "name": "stdout",
     "output_type": "stream",
     "text": [
      "justo\n",
      "commodo\n",
      "libero\n",
      "Sed vitae justo malesuada, commodo libero eu, bibendum mauris.\n"
     ]
    }
   ],
   "source": [
    "text = 'Sed vitae justo malesuada, commodo libero eu, bibendum mauris.'\n",
    "\n",
    "words = text.split()\n",
    "fin_words = []\n",
    "for word in words:\n",
    "    if 'o' in word:\n",
    "        print(word)\n",
    "        # words.remove(word)\n",
    "    else:\n",
    "        fin_words.append(word)\n",
    "\n",
    "print(' '.join(words))"
   ]
  }
 ],
 "metadata": {
  "kernelspec": {
   "display_name": "Python 3",
   "language": "python",
   "name": "python3"
  },
  "language_info": {
   "codemirror_mode": {
    "name": "ipython",
    "version": 3
   },
   "file_extension": ".py",
   "mimetype": "text/x-python",
   "name": "python",
   "nbconvert_exporter": "python",
   "pygments_lexer": "ipython3",
   "version": "3.12.5"
  }
 },
 "nbformat": 4,
 "nbformat_minor": 2
}

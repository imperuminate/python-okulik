{
 "cells": [
  {
   "cell_type": "markdown",
   "metadata": {},
   "source": [
    "# Classes\n",
    "\n",
    "в классе находяться методы, и только в классе. Функции - это такая же хуйня, но прописывается не классе. \n",
    "\n",
    "В методах всегда нужно указывать self\n"
   ]
  },
  {
   "cell_type": "code",
   "execution_count": 17,
   "metadata": {},
   "outputs": [],
   "source": [
    "from abc import abstractmethod\n",
    "\n",
    "class Groop:\n",
    "    # тут я создаю характеристики класса\n",
    "    pupils = True\n",
    "    school_name = 42\n",
    "    director = 'Marivanna'\n",
    "    \n",
    "    # тут я создаю возможность для создания уникальных карактеристик обьекта\n",
    "    def __init__(self, title, pupils_count, groop_leader):\n",
    "        self.title = title  # тут first_a.title = title\n",
    "        self.pupils_count = pupils_count\n",
    "        self.groop_leader = groop_leader\n",
    "    \n",
    "    def study(self):\n",
    "        print('Sit down and read')\n",
    "    \n",
    "    @abstractmethod    \n",
    "    def move(self):\n",
    "        pass   # pass тут нужно чтобы метод был абстрактным, он реализуется у дочерних классах потом\n",
    "    \n",
    "\n",
    "class PrimaryGroop(Groop):\n",
    "    max_age = 11\n",
    "    min_age = 6\n",
    "    building_section = 'Ozero'\n",
    "    \n",
    "    def __init__(self, title, pupils_count, groop_leader, class_room):\n",
    "        super().__init__(title, pupils_count, groop_leader)\n",
    "        self.class_room = class_room\n",
    "    \n",
    "    def move(self):\n",
    "        print('Run fast')\n",
    "\n",
    "\n",
    "class HighGroop(Groop):\n",
    "    max_age = 18\n",
    "    min_age = 14\n",
    "    \n",
    "    def move(self):\n",
    "        print('Walk slowly')\n"
   ]
  },
  {
   "cell_type": "code",
   "execution_count": 19,
   "metadata": {},
   "outputs": [
    {
     "name": "stdout",
     "output_type": "stream",
     "text": [
      "Marivanna\n",
      "Sit down and read\n",
      "Walk slowly\n",
      "O. V.\n",
      "1a room\n"
     ]
    }
   ],
   "source": [
    "first_a = PrimaryGroop('1 A', 18, 'M. A.', '1a room')\n",
    "eleven_a = HighGroop('11 B', 17, 'O. V.')\n",
    "\n",
    "print(first_a.director)\n",
    "\n",
    "eleven_a.study()\n",
    "eleven_a.move()\n",
    "\n",
    "print(eleven_a.groop_leader)\n",
    "print(first_a.class_room)"
   ]
  }
 ],
 "metadata": {
  "kernelspec": {
   "display_name": "Python 3",
   "language": "python",
   "name": "python3"
  },
  "language_info": {
   "codemirror_mode": {
    "name": "ipython",
    "version": 3
   },
   "file_extension": ".py",
   "mimetype": "text/x-python",
   "name": "python",
   "nbconvert_exporter": "python",
   "pygments_lexer": "ipython3",
   "version": "3.12.5"
  }
 },
 "nbformat": 4,
 "nbformat_minor": 2
}

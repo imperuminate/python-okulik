{
 "cells": [
  {
   "cell_type": "code",
   "execution_count": null,
   "metadata": {},
   "outputs": [],
   "source": [
    "git branch    # посмотреть все ветки. или текущую\n",
    "git branch -D branch_name    # удилить ветру ?\n",
    "\n",
    "git checkout main     #go to the branch main\n",
    "git pull\n",
    "git checkout -b  branch_name  #creates new branch\n",
    "git status\n",
    "git add .\n",
    "git commit -m \"comment\"\n",
    "git push\n",
    "\n"
   ]
  },
  {
   "cell_type": "markdown",
   "metadata": {},
   "source": [
    "![](img/image.png)"
   ]
  }
 ],
 "metadata": {
  "language_info": {
   "name": "python"
  }
 },
 "nbformat": 4,
 "nbformat_minor": 2
}

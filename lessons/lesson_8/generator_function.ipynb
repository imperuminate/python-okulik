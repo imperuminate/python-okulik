{
 "cells": [
  {
   "cell_type": "markdown",
   "metadata": {},
   "source": [
    "# Generator function"
   ]
  },
  {
   "cell_type": "code",
   "execution_count": 2,
   "metadata": {},
   "outputs": [
    {
     "name": "stdout",
     "output_type": "stream",
     "text": [
      "Text consists on the words: name and surname\n"
     ]
    }
   ],
   "source": [
    "def generate_text(text1, text2):\n",
    "    return f'Text consists on the words: {text1} and {text2}'\n",
    "\n",
    "print(generate_text('name', 'surname'))"
   ]
  },
  {
   "cell_type": "code",
   "execution_count": null,
   "metadata": {},
   "outputs": [],
   "source": [
    "my_list = [1, 2, 3, 6, 9]\n",
    "\n",
    "for x in my_list:\n",
    "    print(x)"
   ]
  },
  {
   "cell_type": "code",
   "execution_count": null,
   "metadata": {},
   "outputs": [],
   "source": [
    "n = 2\n",
    "progresion = []\n",
    "num = 1\n",
    "\n",
    "while len(progresion) < 1000000000:\n",
    "    progresion.append(num)\n",
    "    num += n"
   ]
  },
  {
   "cell_type": "markdown",
   "metadata": {},
   "source": [
    "короче, генераторы используют тогда когда нужно сразу использовать сгенерированое что то, без сохранения всего этого нагенерированого.\n",
    "\n",
    "короче, yield поэтапно возвращает каждое значение по очереди. а return вернул бы все сразу. \n",
    "\n",
    "кстати, yield стопорит дальнейшее выполнение функции, и тот код который написан после yield будет выпонен в следующий цыкл. Следующий цыкл как раз таки начнется после yield."
   ]
  },
  {
   "cell_type": "code",
   "execution_count": 18,
   "metadata": {},
   "outputs": [
    {
     "name": "stdout",
     "output_type": "stream",
     "text": [
      "1999999\n"
     ]
    }
   ],
   "source": [
    "def progresion(limit=100):\n",
    "    n = 2\n",
    "    num = 1\n",
    "    counti = 1\n",
    "    while counti < limit:\n",
    "        yield num\n",
    "        num += n\n",
    "        counti += 1\n",
    "    \n",
    "        \n",
    "# for number in progresion(10):\n",
    "#     print(number)\n",
    "\n",
    "count = 1    \n",
    "for number in progresion(1000001):\n",
    "    if count == 1000000:\n",
    "        print(number)\n",
    "        break\n",
    "    \n",
    "    count += 1    "
   ]
  },
  {
   "cell_type": "code",
   "execution_count": 27,
   "metadata": {},
   "outputs": [
    {
     "name": "stdout",
     "output_type": "stream",
     "text": [
      "for loop\n",
      "generator\n",
      "for loop\n",
      "generator\n",
      "for loop\n",
      "generator\n",
      "for loop\n",
      "generator\n",
      "for loop\n",
      "generator\n",
      "for loop\n",
      "generator\n",
      "for loop\n",
      "generator\n",
      "for loop\n",
      "generator\n",
      "9\n"
     ]
    }
   ],
   "source": [
    "def progresion():\n",
    "    num = 1\n",
    "    counti = 1\n",
    "    while counti < 10:\n",
    "        yield num\n",
    "        print('generator')\n",
    "        num += 1\n",
    "        counti += 1\n",
    "    \n",
    "\n",
    "count = 1    \n",
    "for number in progresion():\n",
    "    if count == 9:\n",
    "        print(number)\n",
    "        break\n",
    "    print('for loop')\n",
    "    count += 1  \n",
    "    "
   ]
  }
 ],
 "metadata": {
  "kernelspec": {
   "display_name": "Python 3",
   "language": "python",
   "name": "python3"
  },
  "language_info": {
   "codemirror_mode": {
    "name": "ipython",
    "version": 3
   },
   "file_extension": ".py",
   "mimetype": "text/x-python",
   "name": "python",
   "nbconvert_exporter": "python",
   "pygments_lexer": "ipython3",
   "version": "3.12.5"
  }
 },
 "nbformat": 4,
 "nbformat_minor": 2
}

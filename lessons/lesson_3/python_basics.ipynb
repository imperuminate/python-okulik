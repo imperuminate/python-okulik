{
 "cells": [
  {
   "cell_type": "markdown",
   "metadata": {},
   "source": [
    "# Python \n",
    "\n",
    "правила именований всего\\\n",
    "типы данных и их определения\\\n",
    "типы операторов и как они работают\\\n",
    "очередность выполнения операторов"
   ]
  },
  {
   "cell_type": "markdown",
   "metadata": {},
   "source": [
    "## Идентификаторы\n",
    "\n",
    "Идентификаторы в Python это имена используемые для обозначения переменной, функции, класса, модуля или другого объекта.\n",
    "\n",
    "Правила для написания идентификаторов:\n",
    "Идентификаторы могут быть комбинацией букв в нижнем регистре (a - z) или верхнего регистра (A - Z) или цифр (0 - 9) или подчеркивание _. Например: myClass, var_1 и print_this_to_screen.\n",
    "Идентификатор не может начинаться с цифры. 1variable неправильно, но variable1 правильно.\n",
    "Ключевые слова не могут использоваться как идентификаторы.\n",
    "Нельзя использовать специальные символы !, @, #, $, %. Идентификаторы могут быть любой длины.\n",
    "\n",
    "![](img/2022-11-16_19-17.png)"
   ]
  },
  {
   "cell_type": "markdown",
   "metadata": {},
   "source": [
    "Зарезервированные слова\n",
    "\n",
    "Мы не можем использовать ключевые слова как имена переменных, имена функций или какой-нибудь любой другой идентификатор.\n",
    "\n",
    "Они используются, для определения синтаксиса и структуры в языке Python. Ключевые слова регистрозависимые.\n",
    "\n",
    "Все слова за исключением True, False и None в маленьком регистре.\n",
    "\n",
    "![](img/2022-11-16_19-20.png)"
   ]
  },
  {
   "cell_type": "markdown",
   "metadata": {},
   "source": [
    "Python – регистрозависимый язык. Это означает, что `Variable` и `variable` не одно и тоже.  \n",
    "Называйте идентификаторы осмысленно.  \n",
    "Несколько слов могут быть разделены подчеркиванием this_is_a_long_variable.  \n",
    "`snake_case` (undercore notation) - стандарт для именования всего кроме классов"
   ]
  },
  {
   "cell_type": "markdown",
   "metadata": {},
   "source": [
    "## Основные типы данных"
   ]
  },
  {
   "cell_type": "markdown",
   "metadata": {},
   "source": [
    "1. int - integer - целые числа (4)\n",
    "2. float - числа с плавающей точкой (4.2)\n",
    "3. str - string - строки ('My cool text')\n",
    "4. bool - boolean - логические значения: True или False \n",
    "\n",
    "Это не все типы данных, а только основные."
   ]
  },
  {
   "cell_type": "code",
   "execution_count": 21,
   "metadata": {},
   "outputs": [
    {
     "name": "stdout",
     "output_type": "stream",
     "text": [
      "42\n",
      "42.5\n",
      "text\n",
      "True\n",
      "False\n"
     ]
    }
   ],
   "source": [
    "print(42)\n",
    "print(42.5)\n",
    "print('text')\n",
    "print(True)\n",
    "print(False)\n"
   ]
  },
  {
   "cell_type": "markdown",
   "metadata": {},
   "source": [
    "## Переменная"
   ]
  },
  {
   "cell_type": "markdown",
   "metadata": {},
   "source": [
    "Именованный участок памяти, обладающий некоторым типом.  \n",
    "\n",
    "Таким образом, в Python у переменной всегда есть:  \n",
    "Имя (название)  \n",
    "Значение  \n",
    "![](img/2022-11-16_19-39.png)"
   ]
  },
  {
   "cell_type": "markdown",
   "metadata": {},
   "source": [
    "Переменная - это элемент, который хранит в себе какие либо данные.  \n",
    "Если мы создали переменную, то она никогда не бывает абсолютно пустой. В ней может храниться, например, пустая строка. Тогда переменная хранит строку, которая пустая. И хранит ее до тех пор, пока программа не завершит работу."
   ]
  },
  {
   "cell_type": "markdown",
   "metadata": {},
   "source": [
    "### Объявление переменной"
   ]
  },
  {
   "cell_type": "markdown",
   "metadata": {},
   "source": [
    "Переменные в Python не типизированные. Это значит, что при создании переменной не нужно указывать какой тип данных в ней будет храниться. Более того, переменную не нужно объявлять заранее, до того как присвоить ей какие-либо данные. Объявление переменной происходит простым присвоением ей значения:\n",
    "\n",
    "Python типизация:\n",
    "- Динамическая - тип данных определяется во время выполнения кода, а не во время компиляции. \n",
    "- Сильная - нельзя складывать строки и числа и тд. \n",
    "- Неявная - не нужно прямо задавить тип данных."
   ]
  },
  {
   "cell_type": "code",
   "execution_count": 22,
   "metadata": {},
   "outputs": [
    {
     "name": "stdout",
     "output_type": "stream",
     "text": [
      "47\n"
     ]
    }
   ],
   "source": [
    "a = 45\n",
    "print(2 + a)"
   ]
  },
  {
   "cell_type": "code",
   "execution_count": 7,
   "metadata": {},
   "outputs": [
    {
     "name": "stdout",
     "output_type": "stream",
     "text": [
      "45\n"
     ]
    }
   ],
   "source": [
    "a = 45\n",
    "b = False\n",
    "print(b + a)"
   ]
  },
  {
   "cell_type": "markdown",
   "metadata": {},
   "source": [
    "После присвоения, переменная сама знает какой тип данных в ней хранится. У переменной всегда есть тип (конечно, если значение не None). Но этот тип НЕ неизменнен. Вы всегда можете переназначить содержимое переменной значением любого типа"
   ]
  },
  {
   "cell_type": "code",
   "execution_count": 23,
   "metadata": {},
   "outputs": [],
   "source": [
    "b = None"
   ]
  },
  {
   "cell_type": "markdown",
   "metadata": {},
   "source": [
    "## Операторы"
   ]
  },
  {
   "cell_type": "markdown",
   "metadata": {},
   "source": [
    "![](img/2022-11-16_19-45.png)"
   ]
  },
  {
   "cell_type": "markdown",
   "metadata": {},
   "source": [
    "# - `арифметические `\n",
    "\n",
    "`-`\\\n",
    "`+`\\\n",
    " `*`\\\n",
    "`/`\\\n",
    "`**` - возведение в степень\\\n",
    "`//` - деление без остатка. тольк целое значение\\\n",
    "`%` - возвращение остатка деления\n",
    "\n",
    "| Операция                 | Описание                                                      | Пример                  |\n",
    "|--------------------------|---------------------------------------------------------------|-------------------------|\n",
    "| сложение +               | Складывает значение операндов слева и справа от оператора     | 10 + 20 = 30            |\n",
    "| вычитание -              | Вычитает из левого операнда правый                            | 20 - 10 = 10            |\n",
    "| умножение *              | Перемножает левый и правый операнды                           | 10 * 20 = 200           |\n",
    "| деление /                | Делит левый операнд на правый                                 | 20 / 10 = 2             |\n",
    "| остаток от деления %     | Делит левый операнд на правый и возвращает остаток от деления | 20 % 10 = 0 42 % 10 = 2 |\n",
    "| возведение в степень **  | Возводит левый операнд в степень равную правому               | 5 ** 2 = 25             |\n",
    "| целочисленное деление // | Делит левый операнд на правый и оставляет только целую часть  | 9 // 2 = 4              |"
   ]
  },
  {
   "cell_type": "code",
   "execution_count": 1,
   "metadata": {},
   "outputs": [
    {
     "name": "stdout",
     "output_type": "stream",
     "text": [
      "1\n",
      "3\n",
      "4\n",
      "1.0\n",
      "25\n",
      "10\n",
      "2.5\n"
     ]
    }
   ],
   "source": [
    "print(2 - 1)\n",
    "print(2 + 1)\n",
    "print(2 * 2)\n",
    "print(2 / 2)\n",
    "print(5 ** 2)\n",
    "print(21 // 2)\n",
    "print(5.5 % 3)"
   ]
  },
  {
   "cell_type": "markdown",
   "metadata": {},
   "source": [
    "# - `сравнение `\n",
    "сравнивает и возвращает true false\n",
    "\n",
    "`>`\\\n",
    "`<`\\\n",
    "`==`\\\n",
    "`>=`\\\n",
    "`<=`\\\n",
    "`!=` "
   ]
  },
  {
   "cell_type": "code",
   "execution_count": 27,
   "metadata": {},
   "outputs": [
    {
     "name": "stdout",
     "output_type": "stream",
     "text": [
      "True\n",
      "False\n",
      "False\n",
      "True\n",
      "False\n",
      "True\n"
     ]
    }
   ],
   "source": [
    "print(2 > 1)\n",
    "print(2 < 1)\n",
    "print(2 == 1)\n",
    "print(2 >= 1)\n",
    "print(2 <= 1)\n",
    "print(2 != 1)\n"
   ]
  },
  {
   "cell_type": "markdown",
   "metadata": {},
   "source": [
    "# - `присваивание  `\n",
    " делает арифметическую операцию над переменной и присваевает ей в качестве нового значения то что получилось\n",
    " \n",
    " `=`\\\n",
    " `-=`\\\n",
    " `+=`\\\n",
    " `*=`\\\n",
    " `/=`\\\n",
    " `**=`\\\n",
    " `//=`\\\n",
    " `%=`"
   ]
  },
  {
   "cell_type": "code",
   "execution_count": 36,
   "metadata": {},
   "outputs": [
    {
     "name": "stdout",
     "output_type": "stream",
     "text": [
      "7\n",
      "6\n",
      "7\n",
      "14\n",
      "7.0\n",
      "49.0\n",
      "4.0\n",
      "1.0\n"
     ]
    }
   ],
   "source": [
    "a = 7 \n",
    "print(a)\n",
    "\n",
    "a -= 1 \n",
    "print(a)\n",
    "\n",
    "a += 1 \n",
    "print(a)\n",
    "\n",
    "a *= 2 \n",
    "print(a)\n",
    "\n",
    "a /= 2 \n",
    "print(a)\n",
    "\n",
    "a **= 2\n",
    "print(a)\n",
    "\n",
    "a //= 10\n",
    "print(a)\n",
    "\n",
    "a %= 3 \n",
    "print(a)"
   ]
  },
  {
   "cell_type": "markdown",
   "metadata": {},
   "source": [
    "# - `логические `\n",
    "работают с true false изменяя их как то или оценивая \n",
    "\n",
    "`or`\\\n",
    "`not`\\\n",
    "`and` "
   ]
  },
  {
   "cell_type": "code",
   "execution_count": 49,
   "metadata": {},
   "outputs": [
    {
     "name": "stdout",
     "output_type": "stream",
     "text": [
      "False\n",
      "True\n",
      "4\n",
      "False\n"
     ]
    }
   ],
   "source": [
    "print(3 and 2 > 2)\n",
    "\n",
    "print(4 > 2 or 2 > 1)\n",
    "print(4 or 6) # ну или просто вернет первое значение если нет возможности вернуть тру фолс\n",
    "\n",
    "print(not True)\n",
    "\n",
    "\n"
   ]
  },
  {
   "cell_type": "markdown",
   "metadata": {},
   "source": [
    "# - `битовые `\n",
    "\n",
    "`&` - and - побитово проверяет совпадают ли значения на каждом бите, если нет то вернет ложь 0\\\n",
    "`|`- or - побитово проверит значения в вернет тру если есть или там или там \\\n",
    "`~` - не - переворачивает биты. Очень сложно, но по большому оно просто меняет знак на минус и делает еще -1. дыло 5 стало -6. было -7 стало 6\\\n",
    "`^` - xor - переключает биты. ставит 0 там где биты совпадают. там где не совпадают просто поменяет значения\\\n",
    "`>>` - сдвиг вправо на указаное количество битов, просто сдвигает биты. было 1010 стало 0010. было 10 стало 2\\\n",
    "`<<`\n"
   ]
  },
  {
   "cell_type": "code",
   "execution_count": 14,
   "metadata": {},
   "outputs": [
    {
     "name": "stdout",
     "output_type": "stream",
     "text": [
      "10\n",
      "11\n",
      "-5\n",
      "12\n",
      "1\n",
      "16\n"
     ]
    }
   ],
   "source": [
    "x = 10\n",
    "y = 4\n",
    "print(x & x)\n",
    "\n",
    "x = 10\n",
    "y = 3\n",
    "print(x | y)\n",
    "\n",
    "x = 4\n",
    "print( ~ x)\n",
    "\n",
    "x = 10\n",
    "y = 6\n",
    "print(x ^ y)\n",
    "\n",
    "\n",
    "x = 4 \n",
    "print( x >> 2)\n",
    "\n",
    "x = 4 \n",
    "print( x << 2)\n"
   ]
  },
  {
   "cell_type": "markdown",
   "metadata": {},
   "source": [
    "# - `принадлежности`\n",
    "\n",
    "проверяет есть ли значение в чем то. слово в строке. ключ в контейнере (не значение)\n",
    "\n",
    "`in`\\\n",
    "`not in`"
   ]
  },
  {
   "cell_type": "code",
   "execution_count": 74,
   "metadata": {},
   "outputs": [
    {
     "name": "stdout",
     "output_type": "stream",
     "text": [
      "True\n",
      "False\n",
      "True\n",
      "False\n"
     ]
    }
   ],
   "source": [
    "x = 'Hello world'\n",
    "print('H' in x)\n",
    "print('Hello' not in x)\n",
    "\n",
    "y = {1:'a', 2:'b'}\n",
    "print(1 in y)\n",
    "print('a' in y)\n"
   ]
  },
  {
   "cell_type": "markdown",
   "metadata": {},
   "source": [
    "# - `идентичности `\n",
    "\n",
    "проверяет является ли одно точной копией другого\n",
    "\n",
    "`is`\\\n",
    "`not is`"
   ]
  },
  {
   "cell_type": "code",
   "execution_count": 76,
   "metadata": {},
   "outputs": [
    {
     "name": "stdout",
     "output_type": "stream",
     "text": [
      "False\n",
      "True\n",
      "False\n"
     ]
    }
   ],
   "source": [
    "x1 = 4\n",
    "y1 = 4\n",
    "print(x1 is not y1)\n",
    "\n",
    "x2 = 'Hello'\n",
    "y2 = 'Hello'\n",
    "print(x2 is y2)\n",
    "\n",
    "x3 = [1,2,3]\n",
    "y3 = [1,2,3] \n",
    "print(x3 is y3)"
   ]
  },
  {
   "cell_type": "markdown",
   "metadata": {},
   "source": [
    "### Операторы сравнения\n",
    "![](img/2022-11-16_19-57.png)  \n",
    "Один оператор замазан, там \"<>\" - он умер вместе с Python 2.7\n",
    "Все эти операторы используются для того чтобы сравнивать какие-либо значения. Результатом такого сравнения будет True или False"
   ]
  },
  {
   "cell_type": "code",
   "execution_count": 15,
   "metadata": {},
   "outputs": [
    {
     "name": "stdout",
     "output_type": "stream",
     "text": [
      "False\n",
      "True\n"
     ]
    }
   ],
   "source": [
    "print('E' in 'hello')\n",
    "\n",
    "c = 'text'\n",
    "d = 'text'\n",
    "\n",
    "print(c is d)"
   ]
  },
  {
   "cell_type": "code",
   "execution_count": 20,
   "metadata": {},
   "outputs": [
    {
     "name": "stdout",
     "output_type": "stream",
     "text": [
      "True\n"
     ]
    }
   ],
   "source": [
    "d = 256\n",
    "c = 256\n",
    "\n",
    "print(c is d)"
   ]
  },
  {
   "cell_type": "code",
   "execution_count": 22,
   "metadata": {},
   "outputs": [
    {
     "name": "stdout",
     "output_type": "stream",
     "text": [
      "False\n",
      "True\n"
     ]
    }
   ],
   "source": [
    "d = 257\n",
    "c = 257\n",
    "\n",
    "print(c is d)\n",
    "print(c == d)"
   ]
  },
  {
   "cell_type": "code",
   "execution_count": 23,
   "metadata": {},
   "outputs": [
    {
     "name": "stdout",
     "output_type": "stream",
     "text": [
      "True\n",
      "False\n",
      "True\n",
      "False\n",
      "False\n",
      "True\n"
     ]
    }
   ],
   "source": [
    "print(1 == 1)\n",
    "print(1 == 2)\n",
    "print(1 < 2)\n",
    "print(1 > 2)\n",
    "print(1 >= 2)\n",
    "print(1 != 2)"
   ]
  },
  {
   "cell_type": "markdown",
   "metadata": {},
   "source": [
    "### Порядок операций"
   ]
  },
  {
   "cell_type": "markdown",
   "metadata": {},
   "source": [
    "Если в выражении встречается больше, чем один оператор, то порядок вычислений зависит от правил старшинства (rules of precedence). Для математических операций, Python следует математическим соглашениям. Аббревиатура PEMDAS является простым способом для запоминания правил:  \n",
    "\n",
    "1. Parentheses - Скобки\n",
    "2. Exponentiation - Возведение в степень\n",
    "3. Multiplication - Умножение\n",
    "4. Division - Деление  \n",
    "5. Addition - Сложение \n",
    "6. Subtraction - Вычитания"
   ]
  }
 ],
 "metadata": {
  "kernelspec": {
   "display_name": "Python 3",
   "language": "python",
   "name": "python3"
  },
  "language_info": {
   "codemirror_mode": {
    "name": "ipython",
    "version": 3
   },
   "file_extension": ".py",
   "mimetype": "text/x-python",
   "name": "python",
   "nbconvert_exporter": "python",
   "pygments_lexer": "ipython3",
   "version": "3.12.5"
  }
 },
 "nbformat": 4,
 "nbformat_minor": 2
}

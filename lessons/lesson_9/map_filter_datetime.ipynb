{
 "cells": [
  {
   "cell_type": "markdown",
   "metadata": {},
   "source": [
    "Пустая строчка в питоне будет посприниматься как False. \n",
    "Не пустая строчка будет True.\n",
    "\n",
    "Но при ставнении не пустая строчка не будет равна True и выдаст ошибку. Такое работает только при подставлении в условие где ожидается тру или фолс.\n",
    "\n",
    "\n",
    "С числами так же. Если подставляется число - то тру. Если число 0 - то будет фолс."
   ]
  },
  {
   "cell_type": "code",
   "execution_count": 13,
   "metadata": {},
   "outputs": [
    {
     "name": "stdout",
     "output_type": "stream",
     "text": [
      "hi\n"
     ]
    }
   ],
   "source": [
    "x = 'test'\n",
    "\n",
    "if x:\n",
    "    print('hi')"
   ]
  },
  {
   "cell_type": "markdown",
   "metadata": {},
   "source": [
    "с нулем особенность. 0 это тоже данные, но пайтон будет возвращать как фолс. то для таких проверок используют следующую проверку.. "
   ]
  },
  {
   "cell_type": "code",
   "execution_count": 14,
   "metadata": {},
   "outputs": [
    {
     "name": "stdout",
     "output_type": "stream",
     "text": [
      "hi\n"
     ]
    }
   ],
   "source": [
    "a = 0\n",
    "\n",
    "if a is not None:\n",
    "    print('hi')"
   ]
  },
  {
   "cell_type": "markdown",
   "metadata": {},
   "source": [
    "build-in function - эт штуки которые применяются к числам в коллекции какой то, но не изменяют данные, они просто раз возвращают измененные данные (например сортируют)\n",
    "Но если нужно прям изменить, то используют методы специальные"
   ]
  },
  {
   "cell_type": "code",
   "execution_count": 15,
   "metadata": {},
   "outputs": [
    {
     "name": "stdout",
     "output_type": "stream",
     "text": [
      "10\n"
     ]
    }
   ],
   "source": [
    "x = ['hi', 'there', 'loh']\n",
    "y = [1, 2, 4, 3]\n",
    "\n",
    "print(sum(y))"
   ]
  },
  {
   "cell_type": "markdown",
   "metadata": {},
   "source": [
    "# Map\n",
    "\n",
    "приминение операции к каждому эллементу"
   ]
  },
  {
   "cell_type": "code",
   "execution_count": 16,
   "metadata": {},
   "outputs": [
    {
     "name": "stdout",
     "output_type": "stream",
     "text": [
      "[2, 4, 6, 8, 10]\n"
     ]
    }
   ],
   "source": [
    "my_list = [1, 2, 3, 4, 5]\n",
    "\n",
    "new_list = []\n",
    "\n",
    "for x in my_list:\n",
    "    new_list.append(x * 2)\n",
    "    \n",
    "print(new_list)"
   ]
  },
  {
   "cell_type": "code",
   "execution_count": 18,
   "metadata": {},
   "outputs": [
    {
     "name": "stdout",
     "output_type": "stream",
     "text": [
      "<map object at 0x0000012266C0FCD0>\n",
      "[2, 4, 6, 8, 10]\n"
     ]
    }
   ],
   "source": [
    "my_list = [1, 2, 3, 4, 5]\n",
    "\n",
    "def mult_by_2(x):\n",
    "    return x * 2\n",
    "\n",
    "new_list = map(mult_by_2, my_list) # это сгенерит какой то обьект мапа, его нужно будет преобразовать в список или расспечатать с помощью цыкла\n",
    "\n",
    "print(new_list)\n",
    "print(list(new_list))"
   ]
  },
  {
   "cell_type": "code",
   "execution_count": 21,
   "metadata": {},
   "outputs": [
    {
     "name": "stdout",
     "output_type": "stream",
     "text": [
      "[2, 4, 6, 8, 10]\n"
     ]
    }
   ],
   "source": [
    "my_list = [1, 2, 3, 4, 5]\n",
    "\n",
    "new_list = map(lambda x: x * 2, my_list)\n",
    "print(list(new_list))"
   ]
  },
  {
   "cell_type": "markdown",
   "metadata": {},
   "source": [
    "lambda - это способ передать функцию одной строкой, без названия. Лямбда умеет принимать и возвращать значения. Нужно просто написать в какую переменную она будет принимать, и результат какой операции она будет возвращать "
   ]
  },
  {
   "cell_type": "code",
   "execution_count": 20,
   "metadata": {},
   "outputs": [
    {
     "name": "stdout",
     "output_type": "stream",
     "text": [
      "3242\n",
      "3423\n"
     ]
    }
   ],
   "source": [
    "code, number = map(int, input('Code and number').split())\n",
    "print(code)\n",
    "print(number)"
   ]
  },
  {
   "cell_type": "markdown",
   "metadata": {},
   "source": [
    "тернарные операторы\n",
    "\n",
    "позволяет присвоить какое то значение переменной если какое то условие тру. Обязательно нужно писать элс еще со значением."
   ]
  },
  {
   "cell_type": "code",
   "execution_count": 24,
   "metadata": {},
   "outputs": [
    {
     "name": "stdout",
     "output_type": "stream",
     "text": [
      "1\n"
     ]
    }
   ],
   "source": [
    "my_list = [1, 2, 3, 4, 5]\n",
    "\n",
    "x = 1 if 5 in my_list else 4\n",
    "print(x)"
   ]
  },
  {
   "cell_type": "markdown",
   "metadata": {},
   "source": [
    "# Filter\n",
    "в отличие от мар, это не применение операции к каждому элементу, а это фильтрование каждого элемента "
   ]
  },
  {
   "cell_type": "code",
   "execution_count": 28,
   "metadata": {},
   "outputs": [
    {
     "name": "stdout",
     "output_type": "stream",
     "text": [
      "[2, 4, 6, 8]\n"
     ]
    }
   ],
   "source": [
    "my_list = [1, 2, 3, 4, 5, 6, 7, 8, 9]\n",
    "new_list = []\n",
    "\n",
    "for x in my_list: \n",
    "    if x % 2 == 0:\n",
    "        new_list.append(x)\n",
    "    \n",
    "print(new_list)"
   ]
  },
  {
   "cell_type": "code",
   "execution_count": 35,
   "metadata": {},
   "outputs": [
    {
     "name": "stdout",
     "output_type": "stream",
     "text": [
      "[2, 4, 6, 8]\n"
     ]
    }
   ],
   "source": [
    "my_list = [1, 2, 3, 4, 5, 6, 7, 8, 9]\n",
    "\n",
    "def is_even(x):\n",
    "    return x % 2 == 0\n",
    "        \n",
    "new_list = filter(is_even, my_list) # выведет обьект фильтрации. нужно его преоьразовать в лист\n",
    "\n",
    "print(list(new_list))\n"
   ]
  },
  {
   "cell_type": "code",
   "execution_count": 37,
   "metadata": {},
   "outputs": [
    {
     "name": "stdout",
     "output_type": "stream",
     "text": [
      "[2, 4, 6, 8]\n"
     ]
    }
   ],
   "source": [
    "my_list = [1, 2, 3, 4, 5, 6, 7, 8, 9]\n",
    "        \n",
    "new_list = filter(lambda x: x % 2 == 0, my_list)\n",
    "\n",
    "print(list(new_list))"
   ]
  },
  {
   "cell_type": "markdown",
   "metadata": {},
   "source": [
    "# Datetime\n",
    "\n"
   ]
  },
  {
   "cell_type": "code",
   "execution_count": 41,
   "metadata": {},
   "outputs": [
    {
     "name": "stdout",
     "output_type": "stream",
     "text": [
      "2024-08-30 22:46:04.067378\n",
      "22\n",
      "4\n"
     ]
    }
   ],
   "source": [
    "import datetime\n",
    "\n",
    "time_now = datetime.datetime.now()\n",
    "print(time_now)\n",
    "print(time_now.hour)\n",
    "print(time_now.year)\n",
    "print(time_now.isoweekday())\n",
    "print(time_now.timestamp())"
   ]
  },
  {
   "cell_type": "code",
   "execution_count": 42,
   "metadata": {},
   "outputs": [
    {
     "name": "stdout",
     "output_type": "stream",
     "text": [
      "1995-12-26 00:00:00\n"
     ]
    }
   ],
   "source": [
    "easy_date = datetime.datetime(1995, 12, 26)\n",
    "\n",
    "print(easy_date)"
   ]
  },
  {
   "cell_type": "markdown",
   "metadata": {},
   "source": [
    "https://docs.python.org/3/library/datetime.html#strftime-and-strptime-format-codes"
   ]
  },
  {
   "cell_type": "code",
   "execution_count": 44,
   "metadata": {},
   "outputs": [
    {
     "name": "stdout",
     "output_type": "stream",
     "text": [
      "2023-06-05 12:30:10\n"
     ]
    }
   ],
   "source": [
    "my_time = '2023/06/05 12 hours, 30 mins, 10 secs'\n",
    "\n",
    "python_date = datetime.datetime.strptime(my_time, '%Y/%m/%d %H hours, %M mins, %S secs')\n",
    "\n",
    "print(python_date)\n"
   ]
  },
  {
   "cell_type": "code",
   "execution_count": 49,
   "metadata": {},
   "outputs": [
    {
     "name": "stdout",
     "output_type": "stream",
     "text": [
      "2023 06 05  12 what the F\n"
     ]
    }
   ],
   "source": [
    "human_date = python_date.strftime('%Y %m %d  %H what the F') #русские символы не принимается \n",
    "\n",
    "print(human_date)"
   ]
  }
 ],
 "metadata": {
  "kernelspec": {
   "display_name": "Python 3",
   "language": "python",
   "name": "python3"
  },
  "language_info": {
   "codemirror_mode": {
    "name": "ipython",
    "version": 3
   },
   "file_extension": ".py",
   "mimetype": "text/x-python",
   "name": "python",
   "nbconvert_exporter": "python",
   "pygments_lexer": "ipython3",
   "version": "3.12.5"
  }
 },
 "nbformat": 4,
 "nbformat_minor": 2
}

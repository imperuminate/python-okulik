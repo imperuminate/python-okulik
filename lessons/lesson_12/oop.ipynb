{
 "cells": [
  {
   "cell_type": "markdown",
   "metadata": {},
   "source": [
    "# ООП(OOP) \n",
    "Объектно ориентированное программирование\n",
    "\n",
    "\n",
    "Приципы ООП:\n",
    "\n",
    "\n",
    "- Инкапсуляция (Encapsulation)\\\n",
    "- Наследование (inheritance)\\\n",
    "- Полиморфизм (Polymorphism)\n",
    "\n",
    "\n",
    "## Инкапсуляция\n",
    "Все данные объекта должны хранится в объекте. Никто не может изменить данные объекта без его ведома.\n",
    "\n",
    "## Наследование\n",
    "Объекты и их типы организуют иерархию типов. Дочерние типы наследуют свою функциональность от родительского класса, расширяя и дополняя её.\n",
    "\n",
    "## Полиморфизм\n",
    "Способность классов менять своё поведение в зависимости от типов операций и операндов. Полиморфизм в программировании реализуется через перегрузку метода, либо через его переопределение."
   ]
  },
  {
   "cell_type": "code",
   "execution_count": null,
   "metadata": {},
   "outputs": [],
   "source": [
    "# data1.txt\n",
    "{\"Country\": \"Turkey\", \"avg_temp\": 30}\n",
    "# data2.txt\n",
    "{\"Country\": \"Greece\", \"avg_temp\": 28}\n",
    "# data3.txt\n",
    "{\"Country\": \"Poland\", \"avg_temp\": 23, \"min_temp\": 18 }\n"
   ]
  },
  {
   "cell_type": "code",
   "execution_count": null,
   "metadata": {},
   "outputs": [],
   "source": [
    "import json\n",
    "\n",
    "\n",
    "def __read_file(filename):\n",
    "\n",
    "    file_data = open(filename, 'r')\n",
    "    data = json.load(file_data)\n",
    "    file_data.close()\n",
    "    return data\n",
    "\n",
    "data1 = __read_file('data1.txt')\n",
    "data2 = __read_file('data2.txt')\n",
    "\n",
    "\n",
    "print(data1['Country'])\n",
    "print(data1['avg_temp'])\n",
    "print(data2['Country'])\n",
    "print(data2['avg_temp'])"
   ]
  },
  {
   "cell_type": "code",
   "execution_count": 111,
   "metadata": {},
   "outputs": [],
   "source": [
    "class CountryData:\n",
    "    \n",
    "    def __init__(self, filename):\n",
    "        self.__filename = filename\n",
    "        self.__data = self.__read_file()\n",
    "        self.__country = self.__data['Country']\n",
    "        self.__avg_temp = self.__data['avg_temp']\n",
    "        self._comfort = self.__is_comfort()\n",
    "    \n",
    "    \n",
    "    @property\n",
    "    def filename(self):\n",
    "        return self.__filename\n",
    "    \n",
    "    @property\n",
    "    def data(self):\n",
    "        return self.__data\n",
    "    \n",
    "    \n",
    "    @property\n",
    "    def country(self):\n",
    "        return self.__country\n",
    "    \n",
    "    \n",
    "    @property\n",
    "    def avg_temp(self):\n",
    "        return self.__avg_temp\n",
    "    \n",
    "    \n",
    "    @property\n",
    "    def comfort(self):\n",
    "        return self._comfort\n",
    "    \n",
    "    # тут для комфорт прописывается возможность изменять значение в будущем\n",
    "    @comfort.setter\n",
    "    def comfort(self, value):\n",
    "        self._comfort = value\n",
    "    \n",
    "    \n",
    "    def __read_file(self):\n",
    "        file_data = open(self.__filename, 'r')\n",
    "        data = json.load(file_data)\n",
    "        file_data.close()\n",
    "        return data\n",
    "    \n",
    "    \n",
    "    def __is_comfort(self):\n",
    "        return self.__avg_temp > 25\n",
    "    \n",
    "    \n",
    "    def __str__(self):\n",
    "        return f'File {self.filename} with content {self.__data}'\n",
    "    \n",
    "    \n",
    "    def __repr__(self):\n",
    "        return f'File {self.filename} with content {self.__data}'\n",
    "    \n",
    "    \n",
    "    def __lt__(self, obj):\n",
    "        return  self.avg_temp < obj.avg_temp\n",
    "    \n",
    "    \n",
    "    def __le__(self, obj):\n",
    "        return  self.avg_temp <= obj.avg_temp\n",
    "    \n",
    "    def __add__(self, obj):\n",
    "        return [self, obj]\n",
    "    "
   ]
  },
  {
   "cell_type": "code",
   "execution_count": 112,
   "metadata": {},
   "outputs": [
    {
     "name": "stdout",
     "output_type": "stream",
     "text": [
      "data1.txt\n",
      "{'Country': 'Turkey', 'avg_temp': 30}\n",
      "30\n",
      "Turkey\n",
      "True\n",
      "False\n"
     ]
    }
   ],
   "source": [
    "data1 = CountryData('data1.txt')\n",
    "print(data1.filename)\n",
    "print(data1.data)\n",
    "print(data1.avg_temp)\n",
    "print(data1.country)\n",
    "\n",
    "print(data1.comfort)\n",
    "data1.comfort = False\n",
    "\n",
    "print(data1.comfort)\n",
    "\n",
    "\n"
   ]
  },
  {
   "cell_type": "code",
   "execution_count": 113,
   "metadata": {},
   "outputs": [],
   "source": [
    "class CountryDataWithMinTemp(CountryData):\n",
    "    \n",
    "    def __init__(self, filename):\n",
    "        super().__init__(filename)\n",
    "        self.__min_temp = self.data['min_temp']\n",
    "    \n",
    "    \n",
    "    @property\n",
    "    def min_temp(self):\n",
    "        return self.__min_temp"
   ]
  },
  {
   "cell_type": "code",
   "execution_count": 114,
   "metadata": {},
   "outputs": [
    {
     "name": "stdout",
     "output_type": "stream",
     "text": [
      "False\n",
      "True\n"
     ]
    }
   ],
   "source": [
    "data3 = CountryDataWithMinTemp('data3.txt')\n",
    "data3.avg_temp\n",
    "data3.min_temp\n",
    "print(data3.comfort)\n",
    "\n",
    "data3.comfort = True\n",
    "\n",
    "print(data3.comfort)\n"
   ]
  },
  {
   "cell_type": "code",
   "execution_count": 115,
   "metadata": {},
   "outputs": [
    {
     "name": "stdout",
     "output_type": "stream",
     "text": [
      "File data1.txt with content {'Country': 'Turkey', 'avg_temp': 30}\n",
      "False\n",
      "True\n",
      "[File data1.txt with content {'Country': 'Turkey', 'avg_temp': 30}, File data3.txt with content {'Country': 'Poland', 'avg_temp': 23, 'min_temp': 18}]\n"
     ]
    }
   ],
   "source": [
    "print(data1)\n",
    "\n",
    "print(data1 < data3)\n",
    "print(data1 > data3)\n",
    "print(data1 + data3)\n",
    "\n"
   ]
  }
 ],
 "metadata": {
  "kernelspec": {
   "display_name": "Python 3",
   "language": "python",
   "name": "python3"
  },
  "language_info": {
   "codemirror_mode": {
    "name": "ipython",
    "version": 3
   },
   "file_extension": ".py",
   "mimetype": "text/x-python",
   "name": "python",
   "nbconvert_exporter": "python",
   "pygments_lexer": "ipython3",
   "version": "3.12.5"
  }
 },
 "nbformat": 4,
 "nbformat_minor": 2
}
